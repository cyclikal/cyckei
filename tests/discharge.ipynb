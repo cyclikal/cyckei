{
 "cells": [
  {
   "cell_type": "code",
   "execution_count": 1,
   "metadata": {},
   "outputs": [],
   "source": [
    "import time\n",
    "import visa"
   ]
  },
  {
   "cell_type": "code",
   "execution_count": 4,
   "metadata": {},
   "outputs": [],
   "source": [
    "script_startup = \"\"\"loadandrunscript startupscript()\n",
    "    -- Turn off beeper\n",
    "    beeper.enable = beeper.OFF\n",
    "    --\n",
    "    display.clear()\n",
    "    -- Restore Series 2602A defaults on ChA and ChB\n",
    "    -- Changed 9/15/16 by Jon Frost to recall setup 1 instead\n",
    "    errorqueue.clear()\n",
    "    -- Select Channel A and Channel B display formats.\n",
    "    display.screen = display.SMUA_SMUB\n",
    "    -- Display voltage measurement and sourcing for ChA and ChB.\n",
    "    smua.sense = smua.SENSE_REMOTE\n",
    "    smub.sense = smub.SENSE_REMOTE\n",
    "    --\n",
    "    display.smua.measure.func = display.MEASURE_DCVOLTS\n",
    "    display.smub.measure.func = display.MEASURE_DCVOLTS\n",
    "    smua.source.func = smua.OUTPUT_DCAMPS\n",
    "    smub.source.func = smub.OUTPUT_DCAMPS\n",
    "    -- Set the current compliance for ChA ChB\n",
    "    smua.source.limiti = 1.0\n",
    "    smub.source.limiti = 1.0\n",
    "    -- Set the voltage compliance for ChA ChB\n",
    "    smua.source.limitv = 12\n",
    "    smub.source.limitv = 12\n",
    "    -- Set measurement speed for ChA ChB\n",
    "    -- NPLC is number of power line cycles\n",
    "    -- 10 (10/60=0.16 secs) is considered high accuracy\n",
    "    smua.measure.nplc = 10\n",
    "    smub.measure.nplc = 10\n",
    "    -- Select measure V auto range.\n",
    "    smua.measure.autorangev = smua.AUTORANGE_ON\n",
    "    smub.measure.autorangev = smub.AUTORANGE_ON\n",
    "    -- open the channels\n",
    "    smua.source.output = smua.OUTPUT_HIGH_Z\n",
    "    smub.source.output = smub.OUTPUT_HIGH_Z\n",
    "    smua.source.offmode = smua.OUTPUT_HIGH_Z\n",
    "    smub.source.offmode = smub.OUTPUT_HIGH_Z\n",
    "    setup.save(1)\n",
    "    setup.poweron = 1\n",
    "endscript\"\"\""
   ]
  },
  {
   "cell_type": "code",
   "execution_count": 5,
   "metadata": {},
   "outputs": [
    {
     "data": {
      "text/plain": [
       "(9, <StatusCode.success: 0>)"
      ]
     },
     "execution_count": 5,
     "metadata": {},
     "output_type": "execute_result"
    }
   ],
   "source": [
    "resource_manager = visa.ResourceManager()\n",
    "gpib_addr=13\n",
    "source_meter = resource_manager.open_resource(\n",
    "    \"GPIB0::{}::INSTR\".format(gpib_addr)\n",
    ")\n",
    "# TODO do not reset? Do something else, clear buffers I think\n",
    "source_meter.write(\"reset()\")"
   ]
  },
  {
   "cell_type": "code",
   "execution_count": 126,
   "metadata": {},
   "outputs": [],
   "source": [
    "script = \"\"\"display.screen = display.SMUA_SMUB\n",
    "display.smu{ch}.measure.func = display.MEASURE_DCVOLTS\n",
    "smu{ch}.source.func = smu{ch}.OUTPUT_DCAMPS\n",
    "smu{ch}.source.autorangei = smu{ch}.AUTORANGE_ON\n",
    "smu{ch}.source.leveli = {current}\n",
    "smu{ch}.source.limitv = {v_limit}\n",
    "smu{ch}.source.output = smu{ch}.OUTPUT_ON\"\"\".format(ch=\"a\",\n",
    "                                                    current=0.01,\n",
    "                                                    v_limit=5)\n"
   ]
  },
  {
   "cell_type": "code",
   "execution_count": 9,
   "metadata": {},
   "outputs": [],
   "source": [
    "def run_script(script, scriptname):\n",
    "    instruction = \"loadscript {}()\\n{}\\nendscript\\n{}()\".format(\n",
    "        scriptname, script, scriptname\n",
    "    )\n",
    "    return source_meter.write(instruction)"
   ]
  },
  {
   "cell_type": "code",
   "execution_count": 127,
   "metadata": {},
   "outputs": [
    {
     "data": {
      "text/plain": [
       "(299, <StatusCode.success: 0>)"
      ]
     },
     "execution_count": 127,
     "metadata": {},
     "output_type": "execute_result"
    }
   ],
   "source": [
    "run_script(script,\"discharge\")"
   ]
  },
  {
   "cell_type": "code",
   "execution_count": 14,
   "metadata": {},
   "outputs": [],
   "source": [
    "def read_iv():\n",
    "    source_meter.write(\n",
    "        \"current, voltage = smua.measure.iv()\"\n",
    "    )\n",
    "    current = float(source_meter.ask(\"print(current)\"))\n",
    "    voltage = float(source_meter.ask(\"print(voltage)\"))\n",
    "\n",
    "    # The Keithley will report totally out of range numbers like 9.91e+37\n",
    "    # if asked to e.g. charge to 3.9V when the cell is already at 4.2V\n",
    "    # It is basically its way of saying the condition cannot be achieved\n",
    "    # The actual current sent is 0.0 A.\n",
    "#     if abs(current) > 1.0e10 or abs(current) < 1.0e-8:\n",
    "#         current = 0.0\n",
    "#     if abs(voltage) < 5.0e-4:\n",
    "#         voltage = 0.0\n",
    "    return current, voltage"
   ]
  },
  {
   "cell_type": "code",
   "execution_count": 128,
   "metadata": {},
   "outputs": [
    {
     "data": {
      "text/plain": [
       "(0.0100014, 3.76345)"
      ]
     },
     "execution_count": 128,
     "metadata": {},
     "output_type": "execute_result"
    }
   ],
   "source": [
    "read_iv()\n"
   ]
  },
  {
   "cell_type": "code",
   "execution_count": 122,
   "metadata": {},
   "outputs": [
    {
     "data": {
      "text/plain": [
       "(9, <StatusCode.success: 0>)"
      ]
     },
     "execution_count": 122,
     "metadata": {},
     "output_type": "execute_result"
    }
   ],
   "source": [
    "source_meter.write(\"reset()\")"
   ]
  },
  {
   "cell_type": "code",
   "execution_count": 88,
   "metadata": {},
   "outputs": [
    {
     "data": {
      "text/plain": [
       "(37, <StatusCode.success: 0>)"
      ]
     },
     "execution_count": 88,
     "metadata": {},
     "output_type": "execute_result"
    }
   ],
   "source": [
    "source_meter.write(\"current, voltage = smua.source.iv()\")\n"
   ]
  },
  {
   "cell_type": "code",
   "execution_count": null,
   "metadata": {},
   "outputs": [],
   "source": [
    "float(source_meter.query(\"print(current)\"))"
   ]
  }
 ],
 "metadata": {
  "kernelspec": {
   "display_name": "Python 3",
   "language": "python",
   "name": "python3"
  },
  "language_info": {
   "codemirror_mode": {
    "name": "ipython",
    "version": 3
   },
   "file_extension": ".py",
   "mimetype": "text/x-python",
   "name": "python",
   "nbconvert_exporter": "python",
   "pygments_lexer": "ipython3",
   "version": "3.7.3"
  }
 },
 "nbformat": 4,
 "nbformat_minor": 4
}
